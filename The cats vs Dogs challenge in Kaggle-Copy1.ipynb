{
 "cells": [
  {
   "cell_type": "markdown",
   "metadata": {},
   "source": [
    "We are using Pytorch\n",
    "The commands needed\n",
    "press esc to go to the command mode\n",
    "press ENTER to go to the edit mode\n",
    "press ctrl+shift+P to go to the all the commands that can be accessed by keyboard shortcuts\n",
    "to convert code cell to test cell go to cell>cell type>Markdown\n",
    "the original source was\n",
    "https://medium.com/predict/using-pytorch-for-kaggles-famous-dogs-vs-cats-challenge-part-1-preprocessing-and-training-407017e1a10c"
   ]
  },
  {
   "cell_type": "markdown",
   "metadata": {},
   "source": [
    "1. organising train/validation data sets\n",
    "2. transfer learninhg\n",
    "3. saving/loading the best model\n",
    "4. make interferances from test dataset4. make interferances from test dataset\n",
    "5. make submission file in right format and submit in kaggle"
   ]
  },
  {
   "cell_type": "markdown",
   "metadata": {},
   "source": [
    "1. organising train/validation data sets"
   ]
  },
  {
   "cell_type": "markdown",
   "metadata": {},
   "source": [
    "getting train data and value data"
   ]
  },
  {
   "cell_type": "code",
   "execution_count": 1,
   "metadata": {},
   "outputs": [
    {
     "name": "stdout",
     "output_type": "stream",
     "text": [
      "Printing data dir\n"
     ]
    },
    {
     "ename": "FileNotFoundError",
     "evalue": "[WinError 3] The system cannot find the path specified: 'data'",
     "output_type": "error",
     "traceback": [
      "\u001b[1;31m---------------------------------------------------------------------------\u001b[0m",
      "\u001b[1;31mFileNotFoundError\u001b[0m                         Traceback (most recent call last)",
      "\u001b[1;32m<ipython-input-1-1503045df7ec>\u001b[0m in \u001b[0;36m<module>\u001b[1;34m()\u001b[0m\n\u001b[0;32m      7\u001b[0m \u001b[0mval_cats_dir\u001b[0m \u001b[1;33m=\u001b[0m \u001b[1;34mf'{val_dir}/cats'\u001b[0m\u001b[1;33m\u001b[0m\u001b[0m\n\u001b[0;32m      8\u001b[0m \u001b[0mprint\u001b[0m\u001b[1;33m(\u001b[0m\u001b[1;34m\"Printing data dir\"\u001b[0m\u001b[1;33m)\u001b[0m\u001b[1;33m\u001b[0m\u001b[0m\n\u001b[1;32m----> 9\u001b[1;33m \u001b[0mprint\u001b[0m\u001b[1;33m(\u001b[0m\u001b[0mos\u001b[0m\u001b[1;33m.\u001b[0m\u001b[0mlistdir\u001b[0m\u001b[1;33m(\u001b[0m\u001b[1;34m\"data\"\u001b[0m\u001b[1;33m)\u001b[0m\u001b[1;33m)\u001b[0m \u001b[1;31m# Shows train, val folders are under data\u001b[0m\u001b[1;33m\u001b[0m\u001b[0m\n\u001b[0m\u001b[0;32m     10\u001b[0m \u001b[0mprint\u001b[0m\u001b[1;33m(\u001b[0m\u001b[1;34m\"Printing train dir\"\u001b[0m\u001b[1;33m)\u001b[0m\u001b[1;33m\u001b[0m\u001b[0m\n\u001b[0;32m     11\u001b[0m \u001b[0mget_ipython\u001b[0m\u001b[1;33m(\u001b[0m\u001b[1;33m)\u001b[0m\u001b[1;33m.\u001b[0m\u001b[0msystem\u001b[0m\u001b[1;33m(\u001b[0m\u001b[1;34m'ls {train_dir} | head -n 5 # Shows image files are in train folder'\u001b[0m\u001b[1;33m)\u001b[0m\u001b[1;33m\u001b[0m\u001b[0m\n",
      "\u001b[1;31mFileNotFoundError\u001b[0m: [WinError 3] The system cannot find the path specified: 'data'"
     ]
    }
   ],
   "source": [
    "import os\n",
    "train_dir = \"./data/train\"\n",
    "train_dogs_dir = f'{train_dir}/dogs' \n",
    "train_cats_dir = f'{train_dir}/cats'\n",
    "val_dir = \"./data/val\"\n",
    "val_dogs_dir = f'{val_dir}/dogs'\n",
    "val_cats_dir = f'{val_dir}/cats'\n",
    "print(\"Printing data dir\")\n",
    "print(os.listdir(\"data\")) # Shows train, val folders are under data\n",
    "print(\"Printing train dir\")\n",
    "!ls {train_dir} | head -n 5 # Shows image files are in train folder\n",
    "print(\"Printing train dog dir\")\n",
    "!ls {train_dogs_dir} | head -n 5 # Check the (empty) folder exist\n",
    "print(\"Printing train cat dir\")\n",
    "!ls {train_cats_dir} | head -n 5 # Check the (empty) folder exist\n",
    "print(\"Printing val dir\")\n",
    "!ls {val_dir} | head -n 5  # Shows subfolder dogs and cats exist\n",
    "print(\"Printing val dog dir\")\n",
    "!ls {val_dogs_dir} | head -n 5 # Check the (empty) folder exist\n",
    "print(\"Printing val cat dir\")\n",
    "!ls {val_cats_dir} | head -n 5 # Check the (empty) folder exist"
   ]
  },
  {
   "cell_type": "code",
   "execution_count": null,
   "metadata": {},
   "outputs": [],
   "source": [
    "import shutil\n",
    "import re\n",
    "files = os.listdir(train_dir)\n",
    "# Move all train cat images to cats folder, dog images to dogs folder\n",
    "for f in files:\n",
    "    catSearchObj = re.search(\"cat\", f)\n",
    "    dogSearchObj = re.search(\"dog\", f)\n",
    "    if catSearchObj:\n",
    "        shutil.move(f'{train_dir}/{f}', train_cats_dir)\n",
    "    elif dogSearchObj:\n",
    "        shutil.move(f'{train_dir}/{f}', train_dogs_dir)"
   ]
  },
  {
   "cell_type": "code",
   "execution_count": null,
   "metadata": {},
   "outputs": [],
   "source": [
    "print(\"Printing train dir\") # shows cats, dogs subfolders only\n",
    "!ls {train_dir} | head -n 5\n",
    "print(\"Printing train dog dir\") # there is now dog images in dogs folder\n",
    "!ls {train_dogs_dir} | head -n 5\n",
    "print(\"Printing train cat dir\") # there is now cat images in cats folder\n",
    "!ls {train_cats_dir} | head -n 5"
   ]
  },
  {
   "cell_type": "code",
   "execution_count": null,
   "metadata": {},
   "outputs": [],
   "source": [
    "files = os.listdir(train_dogs_dir)\n",
    "for f in files:\n",
    "    validationDogsSearchObj = re.search(\"5\\d\\d\\d\", f)\n",
    "    if validationDogsSearchObj:\n",
    "        shutil.move(f'{train_dogs_dir}/{f}', val_dogs_dir)\n",
    "print(\"Printing val dog dir\")\n",
    "!ls {val_dogs_dir} | head -n 5"
   ]
  },
  {
   "cell_type": "code",
   "execution_count": null,
   "metadata": {},
   "outputs": [],
   "source": [
    "files = os.listdir(train_cats_dir)\n",
    "for f in files:\n",
    "    validationCatsSearchObj = re.search(\"5\\d\\d\\d\", f)\n",
    "    if validationCatsSearchObj:\n",
    "        shutil.move(f'{train_cats_dir}/{f}', val_cats_dir)\n",
    "print(\"Printing val cat dir\")\n",
    "!ls {val_cats_dir} | head -n 5"
   ]
  },
  {
   "cell_type": "markdown",
   "metadata": {},
   "source": [
    "2. transfer learning"
   ]
  },
  {
   "cell_type": "code",
   "execution_count": null,
   "metadata": {},
   "outputs": [],
   "source": [
    "import torch\n",
    "import torch.nn as nn\n",
    "import torch.optim as optim\n",
    "from torch.optim import lr_scheduler\n",
    "import torchvision\n",
    "from torchvision import datasets, models, transforms\n",
    "\n",
    "import numpy as np\n",
    "\n",
    "\n",
    "import matplotlib.pyplot as plt\n",
    "import time\n",
    "import os\n",
    "import copy\n",
    "import math\n",
    "print(torch.__version__)\n",
    "plt.ion()   # interactive mode"
   ]
  },
  {
   "cell_type": "code",
   "execution_count": null,
   "metadata": {},
   "outputs": [],
   "source": [
    "# Data augmentation and normalization for training\n",
    "# Just normalization for validation\n",
    "data_transforms = {\n",
    "    'train': transforms.Compose([\n",
    "        transforms.RandomRotation(5),\n",
    "        transforms.RandomHorizontalFlip(),\n",
    "        transforms.RandomResizedCrop(224, scale=(0.96, 1.0), ratio=(0.95, 1.05)),\n",
    "        transforms.ToTensor(),\n",
    "        transforms.Normalize([0.485, 0.456, 0.406], [0.229, 0.224, 0.225])\n",
    "    ]),\n",
    "    'val': transforms.Compose([\n",
    "        transforms.Resize([224,224]),\n",
    "        transforms.ToTensor(),\n",
    "        transforms.Normalize([0.485, 0.456, 0.406], [0.229, 0.224, 0.225])\n",
    "    ]),\n",
    "}"
   ]
  },
  {
   "cell_type": "markdown",
   "metadata": {},
   "source": [
    "3. saving?loading the best model"
   ]
  },
  {
   "cell_type": "markdown",
   "metadata": {},
   "source": [
    "4. make interferences from test data"
   ]
  },
  {
   "cell_type": "markdown",
   "metadata": {},
   "source": [
    "5. make submission file in right format to kaggle"
   ]
  },
  {
   "cell_type": "code",
   "execution_count": null,
   "metadata": {},
   "outputs": [],
   "source": []
  },
  {
   "cell_type": "markdown",
   "metadata": {},
   "source": []
  }
 ],
 "metadata": {
  "kernelspec": {
   "display_name": "Python 3",
   "language": "python",
   "name": "python3"
  },
  "language_info": {
   "codemirror_mode": {
    "name": "ipython",
    "version": 3
   },
   "file_extension": ".py",
   "mimetype": "text/x-python",
   "name": "python",
   "nbconvert_exporter": "python",
   "pygments_lexer": "ipython3",
   "version": "3.7.0"
  }
 },
 "nbformat": 4,
 "nbformat_minor": 2
}
